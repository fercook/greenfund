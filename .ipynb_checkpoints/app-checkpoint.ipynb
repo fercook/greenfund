{
 "cells": [
  {
   "cell_type": "markdown",
   "metadata": {},
   "source": [
    "# GreenFund Model Web App\n",
    "\n",
    "## Move the sliders and run"
   ]
  },
  {
   "cell_type": "code",
   "execution_count": 10,
   "metadata": {},
   "outputs": [],
   "source": [
    "import pandas as pd\n",
    "import numpy as np\n",
    "import matplotlib.pyplot as plt\n",
    "from __future__ import print_function\n",
    "from ipywidgets import interact, interactive, fixed\n",
    "import ipywidgets as widgets\n",
    "%matplotlib inline"
   ]
  },
  {
   "cell_type": "code",
   "execution_count": 11,
   "metadata": {},
   "outputs": [
    {
     "data": {
      "application/vnd.jupyter.widget-view+json": {
       "model_id": "e6deb6dc0c7341ff83b5a1ecf54c32c8",
       "version_major": 2,
       "version_minor": 0
      },
      "text/plain": [
       "interactive(children=(FloatSlider(value=3.0, description='fund_size', max=6.0, min=1.0), IntSlider(value=60000…"
      ]
     },
     "metadata": {},
     "output_type": "display_data"
    }
   ],
   "source": [
    "exit_types = {\"loss\": {\"mix\": 0.55, \"multiple\":0, \"exit\": 0}, \n",
    "              \"small\": {\"mix\": 0.2, \"multiple\":1, \"exit\": 2}, \n",
    "              \"base_hit\": {\"mix\": 0.2, \"multiple\":3, \"exit\": 5}, \n",
    "              \"home_run\": {\"mix\": 0.05, \"multiple\":10, \"exit\": 10}}\n",
    "\n",
    "stages = [\"seed\",\"grow\",\"hit\",\"explode\"]\n",
    "\n",
    "def compute_evolution(fund_size, \n",
    "                      first_seed , scond_seed , pre_mny_val ,\n",
    "                      pre_mny_std, follow_rate ,\n",
    "                      exit_growth, exit_hit, exit_explode , exit_variance , \n",
    "                      conv_rate_1, conv_rate_2, conv_rate_3  ):\n",
    "    MILLION = 1000000\n",
    "    TOTAL_FUND = fund_size*1000000\n",
    "    YEARS_FUNDING = 4\n",
    "    exit_caps = {\"seed\": 0,\"grow\": exit_growth*MILLION,\"hit\": exit_hit*MILLION,\"explode\":exit_explode*MILLION}\n",
    "    conversion_rates = [conv_rate_1, conv_rate_2, conv_rate_3]\n",
    "    fee = 0.02\n",
    "    followon = 0\n",
    "    returns = []\n",
    "    companies = []\n",
    "    for n in range(10000):\n",
    "        exits = {x: 0 for x in stages}\n",
    "        fund = TOTAL_FUND*(1-YEARS_FUNDING*fee)\n",
    "        income = 0\n",
    "        ccs = 0\n",
    "        while (fund>first_seed):\n",
    "            # seed\n",
    "            fund = fund - first_seed\n",
    "            pre_money_value = pre_mny_val + (1-2*np.random.random())*pre_mny_std\n",
    "            ownership = first_seed / (pre_money_value + first_seed)\n",
    "            cur_stage=\"seed\"\n",
    "            ccs=ccs+1\n",
    "            for stage, conversion_rate in zip(stages[1:],conversion_rates):\n",
    "                convert = np.random.random() < conversion_rate\n",
    "                if not convert:\n",
    "                    exits[cur_stage]=exits[cur_stage]+1\n",
    "                    exit_value = (1-exit_variance/2+exit_variance*np.random.random())*exit_caps[cur_stage]\n",
    "                    income = income + ownership*exit_value\n",
    "                    break\n",
    "                else: \n",
    "                    cur_stage=stage\n",
    "                    if cur_stage== \"grow\" and fund>scond_seed and np.random.random() < follow_rate:\n",
    "                        fund = fund - scond_seed\n",
    "                        followon=followon+1\n",
    "            if convert:\n",
    "                exit_value = (0.95+0.1*np.random.random())*exit_caps['explode']\n",
    "                income = income + ownership*exit_value\n",
    "                exits[\"explode\"]=exits[\"explode\"]+1\n",
    "        returns.append(income)\n",
    "        companies.append(ccs) #exits)\n",
    "    print (\"Distribucion de compañias\")\n",
    "    print(pd.Series(companies).mean())\n",
    "    #print (\"Total de compañias:\",sum(companies)/10000)\n",
    "    print (\"Total de follow on:\", followon)\n",
    "    Retornos_total = (pd.Series(returns)/TOTAL_FUND)\n",
    "    print (\"Retornos\",Retornos_total.mean(), \", std:\", Retornos_total.std())\n",
    "    fig = (pd.Series(returns)/TOTAL_FUND).hist(bins=40,density=True)\n",
    "    plt.show()\n",
    "    #display(pd.DataFrame(companies))\n",
    "    #return { \"companies\": companies, \"followon\": followon, \"returns\": returns}\n",
    "\n",
    "\n",
    "    \n",
    "    ##################\n",
    "interactive_plot = interactive(compute_evolution,  {'manual': True},\n",
    "                               fund_size = (1,6,0.1), \n",
    "                               first_seed = (50000,70000,5000), scond_seed = (100000,140000,5000), \n",
    "                               pre_mny_val = (500000,900000,50000),\n",
    "                              pre_mny_std = (0,200000,20000), \n",
    "                               follow_rate = (0,0.8,0.01),\n",
    "                      exit_growth = (0.5,4,0.1), exit_hit = (3,7,0.1), exit_explode = (7,20,0.5), \n",
    "                               exit_variance = (0,0.5,0.02), \n",
    "                      conv_rate_1=(0,1,0.01), conv_rate_2 = (0,1,0.01), conv_rate_3 = (0,1,0.01) )\n",
    "output = interactive_plot.children[-1]\n",
    "interactive_plot"
   ]
  },
  {
   "cell_type": "markdown",
   "metadata": {},
   "source": [
    "fund_size = 3, \n",
    "                      first_seed = 60000, scond_seed = 120000, pre_mny_val = 700000,\n",
    "                      pre_mny_std = 100000, follow_rate = 0.41,\n",
    "                      exit_growth = 2, exit_hit = 5, exit_explode = 10, exit_variance = 0.1, \n",
    "                      conv_rate_1=0.45, conv_rate_2 = 0.6, conv_rate_3 = 0.2"
   ]
  },
  {
   "cell_type": "code",
   "execution_count": null,
   "metadata": {},
   "outputs": [],
   "source": []
  }
 ],
 "metadata": {
  "kernelspec": {
   "display_name": "local-env",
   "language": "python",
   "name": "local-env"
  },
  "language_info": {
   "codemirror_mode": {
    "name": "ipython",
    "version": 3
   },
   "file_extension": ".py",
   "mimetype": "text/x-python",
   "name": "python",
   "nbconvert_exporter": "python",
   "pygments_lexer": "ipython3",
   "version": "3.8.5"
  }
 },
 "nbformat": 4,
 "nbformat_minor": 4
}
