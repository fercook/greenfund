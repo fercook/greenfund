{
 "cells": [
  {
   "cell_type": "code",
   "execution_count": 1,
   "metadata": {},
   "outputs": [],
   "source": [
    "# Voila Web App\n",
    "\n",
    "## A website built out of a Jupyter notebook using Voila"
   ]
  },
  {
   "cell_type": "code",
   "execution_count": 4,
   "metadata": {},
   "outputs": [],
   "source": [
    "import pandas as pd\n",
    "import numpy as np\n",
    "import matplotlib.pyplot as plt\n",
    "from ipywidgets import interactive\n",
    "%matplotlib inline"
   ]
  },
  {
   "cell_type": "code",
   "execution_count": null,
   "metadata": {},
   "outputs": [],
   "source": [
    "exit_types = {\"loss\": {\"mix\": 0.55, \"multiple\":0, \"exit\": 0}, \n",
    "              \"small\": {\"mix\": 0.2, \"multiple\":1, \"exit\": 2}, \n",
    "              \"base_hit\": {\"mix\": 0.2, \"multiple\":3, \"exit\": 5}, \n",
    "              \"home_run\": {\"mix\": 0.05, \"multiple\":10, \"exit\": 10}}\n",
    "\n",
    "stages = [\"seed\",\"grow\",\"hit\",\"explode\"]\n",
    "\n",
    "def compute_evolution(TOTAL_FUND = 3000000, YEARS_FUNDING = 4, fee = 0.02, \n",
    "                      first_seed = 60000, second_seed = 120000, pre_money_avg = 700000,\n",
    "                      pre_money_std = 100000, RESEED_RATE = 0.41,\n",
    "                      exit_caps = {\"seed\": 0,\"grow\": 2000000,\"hit\": 5000000,\"explode\":10000000},\n",
    "                      exit_std = 0.1, conversion_rates = [0.45, 0.6, 0.2] ):\n",
    "    followon = 0\n",
    "    returns = []\n",
    "    companies = []\n",
    "    for n in range(10000):\n",
    "        exits = {x: 0 for x in stages}\n",
    "        fund = TOTAL_FUND*(1-YEARS_FUNDING*fee)\n",
    "        income = 0\n",
    "        while (fund>first_seed):\n",
    "            # seed\n",
    "            fund = fund - first_seed\n",
    "            pre_money_value = pre_money_avg + (1-2*np.random.random())*pre_money_std\n",
    "            ownership = first_seed / (pre_money_value + first_seed)\n",
    "            cur_stage=\"seed\"\n",
    "            for stage, conversion_rate in zip(stages[1:],conversion_rates):\n",
    "                convert = np.random.random() < conversion_rate\n",
    "                if not convert:\n",
    "                    exits[cur_stage]=exits[cur_stage]+1\n",
    "                    exit_value = (1-exit_std/2+exit_std*np.random.random())*exit_caps[cur_stage]\n",
    "                    income = income + ownership*exit_value\n",
    "                    break\n",
    "                else: \n",
    "                    cur_stage=stage\n",
    "                    if cur_stage== \"grow\" and fund>second_seed and np.random.random() < RESEED_RATE:\n",
    "                        fund = fund - second_seed\n",
    "                        followon=followon+1\n",
    "            if convert:\n",
    "                exit_value = (0.95+0.1*np.random.random())*exit_caps['explode']\n",
    "                income = income + ownership*exit_value\n",
    "                exits[\"explode\"]=exits[\"explode\"]+1\n",
    "        returns.append(income)\n",
    "        companies.append(exits)\n",
    "    print (\"Distribucion de compañias\")\n",
    "    print(pd.Series(companies)/10000)\n",
    "    print (\"Total de compañias:\",sum(companies.values())/10000)\n",
    "    print (\"Total de follow on:\" followon)\n",
    "    fig = (pd.Series(returns)/3000000).hist(bins=40,density=True)\n",
    "    plt.show()\n",
    "    #return { \"companies\": companies, \"followon\": followon, \"returns\": returns}\n",
    "\n"
   ]
  },
  {
   "cell_type": "code",
   "execution_count": 241,
   "metadata": {},
   "outputs": [],
   "source": [
    "TOTAL_FUND = 3000000\n",
    "YEARS_FUNDING = 4\n",
    "fee = 0.02 \n",
    "\n",
    "first_seed = 60000\n",
    "second_seed = 120000\n",
    "\n",
    "pre_money_avg = 700000\n",
    "pre_money_std = 100000\n",
    "\n",
    "RESEED_RATE = 0.35\n",
    "\n",
    "exit_types = {\"loss\": {\"mix\": 0.55, \"multiple\":0, \"exit\": 0}, \n",
    "              \"small\": {\"mix\": 0.2, \"multiple\":1, \"exit\": 2}, \n",
    "              \"base_hit\": {\"mix\": 0.2, \"multiple\":3, \"exit\": 5}, \n",
    "              \"home_run\": {\"mix\": 0.05, \"multiple\":10, \"exit\": 10}}\n",
    "\n",
    "stages = [\"seed\",\"grow\",\"hit\",\"explode\"]\n",
    "exit_caps = {\"seed\": 0,\"grow\": 2000000,\"hit\": 5000000,\"explode\":10000000}\n",
    "exit_std = 0.1\n",
    "\n",
    "conversion_rates = [0.45, 0.5555555, 0.2]\n",
    "conversion_rates = [0.45, 0.6, 0.2]"
   ]
  },
  {
   "cell_type": "code",
   "execution_count": 242,
   "metadata": {},
   "outputs": [],
   "source": [
    "companies = {x: 0 for x in stages}\n",
    "followon = 0\n",
    "returns = []\n",
    "for n in range(10000):\n",
    "    fund = TOTAL_FUND*(1-YEARS_FUNDING*fee)\n",
    "    income = 0\n",
    "    while (fund>first_seed):\n",
    "        # seed\n",
    "        fund = fund - first_seed\n",
    "        pre_money_value = pre_money_avg + (1-2*np.random.random())*pre_money_std\n",
    "        ownership = first_seed / (pre_money_value + first_seed)\n",
    "        cur_stage=\"seed\"\n",
    "        for stage, conversion_rate in zip(stages[1:],conversion_rates):\n",
    "            convert = np.random.random() < conversion_rate\n",
    "            if not convert:\n",
    "                companies[cur_stage]=companies[cur_stage]+1\n",
    "                exit_value = (1-exit_std/2+exit_std*np.random.random())*exit_caps[cur_stage]\n",
    "                income = income + ownership*exit_value\n",
    "                break\n",
    "            else: \n",
    "                cur_stage=stage\n",
    "                if cur_stage== \"grow\" and fund>second_seed and np.random.random() < RESEED_RATE:\n",
    "                    fund = fund - second_seed\n",
    "                    followon=followon+1\n",
    "        if convert:\n",
    "            exit_value = (0.95+0.1*np.random.random())*exit_caps['explode']\n",
    "            income = income + ownership*exit_value\n",
    "            companies[\"explode\"]=companies[\"explode\"]+1\n",
    "    returns.append(income)\n",
    "            "
   ]
  },
  {
   "cell_type": "code",
   "execution_count": 243,
   "metadata": {
    "scrolled": true
   },
   "outputs": [
    {
     "data": {
      "text/plain": [
       "<matplotlib.axes._subplots.AxesSubplot at 0x118993d10>"
      ]
     },
     "execution_count": 243,
     "metadata": {},
     "output_type": "execute_result"
    },
    {
     "data": {
      "image/png": "[encoded data removed]",
      "text/plain": [
       "<Figure size 432x288 with 1 Axes>"
      ]
     },
     "metadata": {
      "needs_background": "light"
     },
     "output_type": "display_data"
    }
   ],
   "source": [
    "(pd.Series(companies)/10000).plot()"
   ]
  },
  {
   "cell_type": "code",
   "execution_count": 244,
   "metadata": {},
   "outputs": [
    {
     "data": {
      "text/plain": [
       "seed       17.2498\n",
       "grow        5.6577\n",
       "hit         6.8073\n",
       "explode     1.7106\n",
       "dtype: float64"
      ]
     },
     "execution_count": 244,
     "metadata": {},
     "output_type": "execute_result"
    }
   ],
   "source": [
    "pd.Series(companies)/10000"
   ]
  },
  {
   "cell_type": "code",
   "execution_count": 245,
   "metadata": {},
   "outputs": [
    {
     "data": {
      "text/plain": [
       "{'seed': 172498, 'grow': 56577, 'hit': 68073, 'explode': 17106}"
      ]
     },
     "execution_count": 245,
     "metadata": {},
     "output_type": "execute_result"
    }
   ],
   "source": [
    "companies"
   ]
  },
  {
   "cell_type": "code",
   "execution_count": 246,
   "metadata": {},
   "outputs": [
    {
     "data": {
      "text/plain": [
       "31.4254"
      ]
     },
     "execution_count": 246,
     "metadata": {},
     "output_type": "execute_result"
    }
   ],
   "source": [
    "c_total = sum(companies.values())/10000\n",
    "c_total\n"
   ]
  },
  {
   "cell_type": "code",
   "execution_count": 247,
   "metadata": {},
   "outputs": [
    {
     "data": {
      "text/plain": [
       "(17.28397, 5.656572000000001, 6.7878864, 1.6969716)"
      ]
     },
     "execution_count": 247,
     "metadata": {},
     "output_type": "execute_result"
    }
   ],
   "source": [
    "( c_total*(1-conversion_rates[0]),\n",
    " c_total*conversion_rates[0]*(1-conversion_rates[1]),\n",
    " c_total*conversion_rates[0]*conversion_rates[1]*(1-conversion_rates[2]),\n",
    " c_total*conversion_rates[0]*conversion_rates[1]*conversion_rates[2]\n",
    ")"
   ]
  },
  {
   "cell_type": "code",
   "execution_count": 248,
   "metadata": {},
   "outputs": [
    {
     "data": {
      "text/plain": [
       "<matplotlib.axes._subplots.AxesSubplot at 0x11792b9d0>"
      ]
     },
     "execution_count": 248,
     "metadata": {},
     "output_type": "execute_result"
    },
    {
     "data": {
      "image/png": "[encoded data removed]",
      "text/plain": [
       "<Figure size 432x288 with 1 Axes>"
      ]
     },
     "metadata": {
      "needs_background": "light"
     },
     "output_type": "display_data"
    }
   ],
   "source": [
    "(pd.Series(returns)/3000000).hist(bins=40,density=True)"
   ]
  }
 ],
 "metadata": {
  "kernelspec": {
   "display_name": "local-env",
   "language": "python",
   "name": "local-env"
  },
  "language_info": {
   "codemirror_mode": {
    "name": "ipython",
    "version": 3
   },
   "file_extension": ".py",
   "mimetype": "text/x-python",
   "name": "python",
   "nbconvert_exporter": "python",
   "pygments_lexer": "ipython3",
   "version": "3.8.5"
  }
 },
 "nbformat": 4,
 "nbformat_minor": 4
}
